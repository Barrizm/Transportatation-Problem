{
 "cells": [
  {
   "cell_type": "markdown",
   "id": "47af3475",
   "metadata": {},
   "source": [
    "## Contact\n",
    "#### [linkedin](https://www.linkedin.com/in/justin-isinguzo-464bb083/)  &emsp;  [twitter](https://twitter.com/barrizm)  &emsp;[facebook](https://facebook.com/barrizmjay)"
   ]
  },
  {
   "cell_type": "markdown",
   "id": "6c2aedc8",
   "metadata": {},
   "source": [
    "<h1><center>Linear programming(Transportation Problem)</center></h1> <br>  <h2><center>Case study: NNPC and Downstream sector</center></h2>"
   ]
  },
  {
   "cell_type": "markdown",
   "id": "885ee0f6",
   "metadata": {},
   "source": [
    "This iPython Notebook seeks to build an abstract Linear program in python with pyomo module.\n",
    "<hr>\n",
    "<p>Problem formulation: There are a certain amount of refineries and depots(3 and 22 respectively in this case) located in different parts of the country, a change of flow is needed to save cost and also boost the efficiency of supply to different parts of the country.</p>\n",
    "\n",
    "* Objective: Minimize the Cost of Transporting refined products from the 3 refineries in Nigeria to 22 depots scattered across the country\n",
    "* LP Form: Minimization(pyomo)\n",
    "* Decision Variables: sixty six(66) Variables which source to destination is cheaper.\n",
    "* Constraints: Demands must be met and supply cannot exceed production.\n",
    "\n",
    "<div class=\"alert alert-block alert-info\">\n",
    "<b>Why abstract model</b><br>\n",
    "Abstract model is prefered in this case because of its flexibility in terms of the large number of variables and changing values or adding variables for further research or when the need arises. All you need to do is add the new or edited input to the data file.\n",
    "</div>\n",
    "\n",
    "<div class=\"alert alert-block alert-warning\">\n",
    "<b>Note:</b>\n",
    "When using abstract models, it is very important to know that it must work with a data file in `.dat`,`.csv`,`.xlsx` etc as this is where the model picks the sets and parameters to be used during iterations.\n",
    "</div>"
   ]
  },
  {
   "cell_type": "code",
   "execution_count": 21,
   "id": "64e8b853",
   "metadata": {},
   "outputs": [],
   "source": [
    "#Importing the module\n",
    "from pyomo.environ import * "
   ]
  },
  {
   "cell_type": "markdown",
   "id": "c5a84678",
   "metadata": {},
   "source": [
    "## Data used\n",
    "From the Nigerian National Petroleum Coporation quarterly report. Files containing data have been uploaded as .xlxs and .csv files in the [data folder](https://github.com/Barrizm/Transportatation-Problem/tree/main/Data)\n",
    "<br>\n",
    "\n",
    "Data content\n",
    "* Refineries \n",
    "* Depots\n",
    "* Cost of transportation\n",
    "* Quantity needed by the depots(Demand)\n",
    "* Quantity produced by the refineries (Supply)\n"
   ]
  },
  {
   "cell_type": "markdown",
   "id": "58b1552a",
   "metadata": {},
   "source": [
    "## A quick dive into the model\n"
   ]
  },
  {
   "cell_type": "markdown",
   "id": "1d0470f6",
   "metadata": {},
   "source": [
    "This creates a \"container\" where all the action will be performed.\n",
    "When private `refineries` becomes fully functional, the number of `refineries` can be increased as well as the `depots` in the data file and the `optimal solution` will be found.   \n",
    "its sets and parameters are from an outsource(an external file) for execution."
   ]
  },
  {
   "cell_type": "code",
   "execution_count": 11,
   "id": "ecc5c679",
   "metadata": {},
   "outputs": [],
   "source": [
    "model = AbstractModel()"
   ]
  },
  {
   "cell_type": "markdown",
   "id": "6902feba",
   "metadata": {},
   "source": [
    "The set that will be used to construct the needed matrix for iterations. An input in the data file.<br>\n",
    "\n",
    " $Sets = (Refineries, Depots)$\n",
    "\n",
    "\n"
   ]
  },
  {
   "cell_type": "code",
   "execution_count": 12,
   "id": "302b3e07",
   "metadata": {},
   "outputs": [],
   "source": [
    "# Define sets\n",
    "model.Refineries = Set()\n",
    "model.Depots = Set()\n"
   ]
  },
  {
   "cell_type": "markdown",
   "id": "58e333e4",
   "metadata": {},
   "source": [
    "These are the values of the `demand` from Depots, `supply` by the Refineries and the `cost` of moving these products from the Refineries to Depots. An input in the data file"
   ]
  },
  {
   "cell_type": "code",
   "execution_count": 13,
   "id": "29f4a67b",
   "metadata": {},
   "outputs": [],
   "source": [
    "## Define parameters\n",
    "model.refinery = Param(model.Refineries)\n",
    "model.depot = Param(model.Depots)\n",
    "model.costs = Param(model.Refineries, model.Depots)"
   ]
  },
  {
   "cell_type": "markdown",
   "id": "c9164c3a",
   "metadata": {},
   "source": [
    "Desicion variables defined by the `Var` component from source to destination, that is from refineries to depots\n"
   ]
  },
  {
   "cell_type": "code",
   "execution_count": 14,
   "id": "e20d4c90",
   "metadata": {},
   "outputs": [],
   "source": [
    "## Define variables\n",
    "model.flow = Var(model.Refineries, model.Depots, within = NonNegativeReals)"
   ]
  },
  {
   "cell_type": "markdown",
   "id": "928d397d",
   "metadata": {},
   "source": [
    "Implementing the `objective` function\n",
    "\n",
    "$\\min cost = \\sum_{i \\in I} \\sum_{j \\in J} c_{i,j} x_{i,j}$"
   ]
  },
  {
   "cell_type": "code",
   "execution_count": 15,
   "id": "421d6f46",
   "metadata": {},
   "outputs": [],
   "source": [
    "## Define Objective Function\n",
    "def costRule(model):\n",
    "   return sum(\n",
    "       model.costs[n,i] * model.flow[n,i]\n",
    "       for n in model.Refineries\n",
    "       for i in model.Depots\n",
    "    )\n",
    "model.SolverResult=Objective(rule=costRule)\n"
   ]
  },
  {
   "cell_type": "markdown",
   "id": "f5887c10",
   "metadata": {},
   "source": [
    "<div class=\"alert alert-block alert-info\">\n",
    "    Implementing the <b>constraints</b> components along side its <b>rule</b>. \n",
    "</div>\n",
    "\n",
    "\n",
    "In this case the supply must exceed demand to avoid scarcity \n",
    "\n",
    "$\\sum_{i \\in I} x_{i,j} \\geq b_{j}$, <br> $\\forall j \\in J$"
   ]
  },
  {
   "cell_type": "code",
   "execution_count": 16,
   "id": "c6996461",
   "metadata": {},
   "outputs": [],
   "source": [
    "\n",
    "## Satisfy demands\n",
    "def minDemandRule(model,bar):\n",
    "    return sum(model.flow[i, bar] for i in model.Refineries) >= model.depot[bar]\n",
    "model.depotConstraint = Constraint(model.Depots, rule=minDemandRule)\n",
    "\n"
   ]
  },
  {
   "cell_type": "markdown",
   "id": "e4d7e01f",
   "metadata": {},
   "source": [
    "the quantity demanded should not exceed what the company has produced.\n",
    "\n",
    "$\\sum_{j \\in J} x_{i,j} \\leq a_{i}$, <br> $\\forall i \\in I$"
   ]
  },
  {
   "cell_type": "code",
   "execution_count": null,
   "id": "c4783c45",
   "metadata": {},
   "outputs": [],
   "source": [
    "## Satisfy supplies\n",
    "def maxSupplyRule(model,warehouse):\n",
    "    return sum(model.flow[warehouse, j] for j in model.Depots) <= model.refinery[warehouse]\n",
    "model.refineryConstraint = Constraint(model.Refineries, rule=maxSupplyRule)\n"
   ]
  },
  {
   "cell_type": "markdown",
   "id": "8e26218e",
   "metadata": {},
   "source": [
    "Running the program in the note book with [$\\color{red}{\\text{ xpress_direct}}$](https://www.fico.com/) solver and making reference to the data file [$\\color{red}{\\text{ pms_cost.dat}}$](https://github.com/Barrizm/Transportatation-Problem/blob/main/Data/pms_cost.dat) with the parameters herein result for optimality "
   ]
  },
  {
   "cell_type": "code",
   "execution_count": 22,
   "id": "17ca3378",
   "metadata": {},
   "outputs": [
    {
     "name": "stdout",
     "output_type": "stream",
     "text": [
      "\n",
      "# ==========================================================\n",
      "# = Solver Results                                         =\n",
      "# ==========================================================\n",
      "# ----------------------------------------------------------\n",
      "#   Problem Information\n",
      "# ----------------------------------------------------------\n",
      "Problem: \n",
      "- Name: unknown\n",
      "  Lower bound: 2171099709.0\n",
      "  Upper bound: 2171099709.0\n",
      "  Number of objectives: 1\n",
      "  Number of constraints: 25\n",
      "  Number of variables: 66\n",
      "  Number of integer variables: 0\n",
      "  Number of continuous variables: 66\n",
      "  Number of nonzeros: 132\n",
      "  Sense: 1\n",
      "  Number of solutions: 1\n",
      "# ----------------------------------------------------------\n",
      "#   Solver Information\n",
      "# ----------------------------------------------------------\n",
      "Solver: \n",
      "- Name: Xpress 40.1.2\n",
      "  Status: ok\n",
      "  Wallclock time: 0.08663702011108398\n",
      "  Termination condition: optimal\n",
      "  Termination message: Model was solved to optimality (subject to tolerances), and an optimal solution is available.\n",
      "# ----------------------------------------------------------\n",
      "#   Solution Information\n",
      "# ----------------------------------------------------------\n",
      "Solution: \n",
      "- number of solutions: 1\n",
      "  number of solutions displayed: 1\n",
      "- Gap: 0.0\n",
      "  Status: optimal\n",
      "  Message: None\n",
      "  Objective:\n",
      "    SolverResult:\n",
      "      Value: 2171099709\n",
      "  Variable:\n",
      "    flow[KRPC,GOMBE]:\n",
      "      Value: 68518\n",
      "    flow[KRPC,GUSAU]:\n",
      "      Value: 301059\n",
      "    flow[KRPC,JOS]:\n",
      "      Value: 280509\n",
      "    flow[KRPC,KADUNA]:\n",
      "      Value: 215523\n",
      "    flow[KRPC,KANO]:\n",
      "      Value: 448675\n",
      "    flow[KRPC,MAIDUGURI]:\n",
      "      Value: 222764\n",
      "    flow[KRPC,MINNA]:\n",
      "      Value: 145529\n",
      "    flow[KRPC,SULEJA]:\n",
      "      Value: 806232\n",
      "    flow[PHRC,ABA]:\n",
      "      Value: 212497\n",
      "    flow[PHRC,CALABAR]:\n",
      "      Value: 273995\n",
      "    flow[PHRC,ENUGU]:\n",
      "      Value: 264937\n",
      "    flow[PHRC,MAKURDI]:\n",
      "      Value: 69497\n",
      "    flow[PHRC,PORT HARCOURT]:\n",
      "      Value: 366547\n",
      "    flow[PHRC,YOLA]:\n",
      "      Value: 222580\n",
      "    flow[WRPC,ATLAS COVE]:\n",
      "      Value: 1053384\n",
      "    flow[WRPC,BENIN]:\n",
      "      Value: 249475\n",
      "    flow[WRPC,IBADAN]:\n",
      "      Value: 381393\n",
      "    flow[WRPC,ILORIN]:\n",
      "      Value: 127338\n",
      "    flow[WRPC,MOSIMI]:\n",
      "      Value: 490248\n",
      "    flow[WRPC,ORE]:\n",
      "      Value: 252729\n",
      "    flow[WRPC,SATELLITE]:\n",
      "      Value: 143643\n",
      "    flow[WRPC,WARRI]:\n",
      "      Value: 334230\n",
      "  Constraint: No values\n"
     ]
    }
   ],
   "source": [
    "# solver used \n",
    "opt = SolverFactory('xpress_direct')\n",
    "\n",
    "#creating an instance wiht the data file containing the parameter\n",
    "instance = model.create_instance(\"pms_cost.dat\")\n",
    "results = opt.solve(instance)\n",
    "\n",
    "# instance.display()\n",
    "instance.solutions.store_to(results)\n",
    "results.write()\n",
    "\n"
   ]
  },
  {
   "cell_type": "markdown",
   "id": "ffebb6d7",
   "metadata": {},
   "source": [
    "# Result interpretation\n",
    "\n",
    "An optimal result was found and projected an estimated cost of $\\color{blue}{\\text{ N2,171,099,709}}$  (two billion one hundred and seventy one million, ninety nine thousand, seven hundred and nine naira) to transport Premium Motor Spirit to all parts of the country which is the summation of all the values from the result above.<br>\n",
    "This information:-\n",
    "\n",
    "Example above\n",
    "\n",
    "$\\color{blue}{\\text{flow[KRPC, GOMBE]:}}$\n",
    "<br>\n",
    "&emsp;$\\color{blue}{\\text{Value: 68518}}$<br>\n",
    "\n",
    "  means that `KRPC` will satisfy the depot demands from `GOMBE`which is `68518`. This translation applies to all as same model can be used for Automated Gas Oil(AGO) and House Hold Kerosene(HHK) with the [data](https://github.com/Barrizm/Transportatation-Problem/tree/main/Data)\n",
    "  \n",
    "  \n",
    "<div class=\"alert alert-block alert-info\">\n",
    "\n",
    "These results can be compared to the current cost of transporting these products hence make cost adjustments where necessary.<br>\n",
    "</div>\n",
    "\n",
    "[<b>complete thesis</b>](https://github.com/Barrizm/Transportatation-Problem/blob/main/Thesis_transportation_NNPC_Msc.pdf)"
   ]
  },
  {
   "cell_type": "code",
   "execution_count": null,
   "id": "a78ffeae",
   "metadata": {},
   "outputs": [],
   "source": []
  }
 ],
 "metadata": {
  "kernelspec": {
   "display_name": "Python 3 (ipykernel)",
   "language": "python",
   "name": "python3"
  },
  "language_info": {
   "codemirror_mode": {
    "name": "ipython",
    "version": 3
   },
   "file_extension": ".py",
   "mimetype": "text/x-python",
   "name": "python",
   "nbconvert_exporter": "python",
   "pygments_lexer": "ipython3",
   "version": "3.7.13"
  }
 },
 "nbformat": 4,
 "nbformat_minor": 5
}
