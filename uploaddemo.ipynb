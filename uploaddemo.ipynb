{
 "cells": [
  {
   "cell_type": "markdown",
   "id": "c7942e66",
   "metadata": {},
   "source": [
    "# Problem\n",
    "\n",
    "An electronics firm manufactures integrated circuits for radios, televisions, and\n",
    "stereos. For the next month it has available 1500 units of materials and 920 units\n",
    "of labor. The requirements and selling price of one of each of the above products\n",
    "are given in the following table. \n",
    "\n",
    "<table style=\"width:50%\">\n",
    "  <tr>\n",
    "    <th></th>\n",
    "    <th>Units of Material</th>\n",
    "    <th>Units of labour</th>\n",
    "    <th>Selling price($) </th>\n",
    "   \n",
    "  </tr>\n",
    "  <tr>\n",
    "    <td>Radio</td>\n",
    "    <td>2</td>\n",
    "    <td>1</td>\n",
    "    <td>8</td>\n",
    "  </tr>\n",
    "  <tr>\n",
    "    <td>TV</td>\n",
    "    <td>12</td>\n",
    "    <td>8</td>\n",
    "    <td>60</td>\n",
    "  </tr>\n",
    "    <tr>\n",
    "    <td>Stero</td>\n",
    "    <td>15</td>\n",
    "    <td>6</td>\n",
    "    <td>45</td>\n",
    "    </tr>\n",
    "</table>\n",
    "\n",
    "* Determine a production schedule that maximizes income\n",
    "\n"
   ]
  },
  {
   "cell_type": "markdown",
   "id": "72ba7b1b",
   "metadata": {},
   "source": [
    "# Solution\n",
    "\n",
    "This problem seeks to `maximise` (increase) the selling price as the `ObjectiveFunction` bearing in mind certain conditions that must be adhered to. an increase in the seling price will result to an increase in revenue for the company.\n",
    "\n",
    "* Mathematically this problem can be modeled as thus\n",
    "<br>let: $Radio = x1$, $TV = x2$, $Stero = x3$\n",
    "\n",
    "Hence the `model` can be represented  as:<br> \n",
    "`maximize`  &nbsp;&nbsp;&nbsp;&nbsp;&nbsp;&nbsp;&nbsp;&nbsp;&nbsp;&nbsp;&nbsp;&nbsp;&nbsp;   $8x1 + 60x2 + 45x3$ <br>\n",
    "`subject to` &nbsp;&nbsp;&nbsp;&nbsp;&nbsp;&nbsp;&nbsp;&nbsp;&nbsp; $2x1 + 12x2 + 15x3 \\le 920$<br>\n",
    "&nbsp;&nbsp;&nbsp;&nbsp;&nbsp;&nbsp;&nbsp;&nbsp;&nbsp;&nbsp;&nbsp;&nbsp;&nbsp;&nbsp;&nbsp;&nbsp;&nbsp;&nbsp;&nbsp;&nbsp;&nbsp;&nbsp;&nbsp;&nbsp;&nbsp;&nbsp;&nbsp;&nbsp;&nbsp;&nbsp;&nbsp;&nbsp;      $x1 + 60x2 + 45x3 \\le 1500 $<br>\n",
    "&nbsp;&nbsp;&nbsp;&nbsp;&nbsp;&nbsp;&nbsp;&nbsp;&nbsp;&nbsp;&nbsp;&nbsp;&nbsp;&nbsp;&nbsp;&nbsp;&nbsp;&nbsp;&nbsp;&nbsp;&nbsp;&nbsp;&nbsp;&nbsp;&nbsp;&nbsp;&nbsp;&nbsp;&nbsp;&nbsp;&nbsp;&nbsp;&nbsp;$x1,x2,x3 \\ge 0$ <br>\n",
    "\n",
    "This problem will be solved using \n",
    "* Pyomo SolverFactory (\"ipopt\")\n",
    "* scipy module\n",
    "\n"
   ]
  },
  {
   "cell_type": "code",
   "execution_count": 2,
   "id": "e6cefe8a",
   "metadata": {},
   "outputs": [
    {
     "data": {
      "text/plain": [
       "     con: array([], dtype=float64)\n",
       "     fun: -3911.1111111111113\n",
       " message: 'Optimization terminated successfully.'\n",
       "     nit: 4\n",
       "   slack: array([0., 0.])\n",
       "  status: 0\n",
       " success: True\n",
       "       x: array([344.44444444,  19.25925926,   0.        ])"
      ]
     },
     "execution_count": 2,
     "metadata": {},
     "output_type": "execute_result"
    }
   ],
   "source": [
    "from scipy.optimize import linprog\n",
    "\n",
    "\n",
    "\"\"\"\n",
    "Since linprog does not allow Maximization \n",
    "we therefore multiply the variables in Objective function by -1\n",
    "this process converts the maximization to minimization\n",
    "\"\"\"\n",
    "\n",
    "obj = [-8, -60, -45]    #coef of the objective fxn\n",
    "lhs = [[2,12,15],[1,60,45]]   #coef of the constraints lhs\n",
    "rhs = [920, 1500]  \n",
    "\n",
    "bnd = [(0, float('inf')), (0, float('inf')), (0, float('inf'))]\n",
    "\n",
    "optimization = linprog(c = obj, A_ub = lhs, b_ub = rhs, bounds=bnd, method = 'simplex')\n",
    "\n",
    "optimization"
   ]
  },
  {
   "cell_type": "code",
   "execution_count": null,
   "id": "e77b400f",
   "metadata": {},
   "outputs": [],
   "source": []
  }
 ],
 "metadata": {
  "kernelspec": {
   "display_name": "Python 3 (ipykernel)",
   "language": "python",
   "name": "python3"
  },
  "language_info": {
   "codemirror_mode": {
    "name": "ipython",
    "version": 3
   },
   "file_extension": ".py",
   "mimetype": "text/x-python",
   "name": "python",
   "nbconvert_exporter": "python",
   "pygments_lexer": "ipython3",
   "version": "3.7.13"
  }
 },
 "nbformat": 4,
 "nbformat_minor": 5
}
